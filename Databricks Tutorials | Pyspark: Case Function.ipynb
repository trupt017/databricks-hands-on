{
 "cells": [
  {
   "cell_type": "code",
   "execution_count": 0,
   "metadata": {
    "application/vnd.databricks.v1+cell": {
     "cellMetadata": {
      "byteLimit": 2048000,
      "rowLimit": 10000
     },
     "inputWidgets": {},
     "nuid": "140c3b2c-f151-452d-bf07-a4908dde205a",
     "showTitle": false,
     "tableResultSettingsMap": {},
     "title": ""
    }
   },
   "outputs": [],
   "source": [
    "from pyspark.sql.functions import when, col, expr"
   ]
  },
  {
   "cell_type": "code",
   "execution_count": 0,
   "metadata": {
    "application/vnd.databricks.v1+cell": {
     "cellMetadata": {
      "byteLimit": 2048000,
      "rowLimit": 10000
     },
     "inputWidgets": {},
     "nuid": "0b725911-f246-47a8-a090-1bc9945e46fb",
     "showTitle": false,
     "tableResultSettingsMap": {},
     "title": ""
    }
   },
   "outputs": [],
   "source": [
    "# Sample data\n",
    "data = [\n",
    "    (1, \"Alice\", \"HR\", 30000),\n",
    "    (2, \"Bob\", \"IT\", 60000),\n",
    "    (3, \"Charlie\", \"Finance\", 50000),\n",
    "    (4, \"David\", \"IT\", 45000),\n",
    "    (5, \"Eve\", \"HR\", 32000)\n",
    "]\n",
    "\n",
    "# Columns\n",
    "columns = ['id', 'name', 'department', 'salary']\n",
    "\n",
    "df = spark.createDataFrame(data, columns)\n",
    "df.printSchema()\n",
    "df.show()"
   ]
  },
  {
   "cell_type": "code",
   "execution_count": 0,
   "metadata": {
    "application/vnd.databricks.v1+cell": {
     "cellMetadata": {
      "byteLimit": 2048000,
      "rowLimit": 10000
     },
     "inputWidgets": {},
     "nuid": "6be6cb87-9a08-415c-8f59-2e027380f73d",
     "showTitle": false,
     "tableResultSettingsMap": {},
     "title": ""
    }
   },
   "outputs": [],
   "source": [
    "# Using withColumn Function\n",
    "df1 = df.withColumn(\"bonus\", when(df.department == \"IT\", df.salary*0.1).when(df.department == \"HR\", df.salary*0.08).otherwise(df.salary*0.05))\n",
    "\n",
    "display(df1)"
   ]
  },
  {
   "cell_type": "code",
   "execution_count": 0,
   "metadata": {
    "application/vnd.databricks.v1+cell": {
     "cellMetadata": {
      "byteLimit": 2048000,
      "rowLimit": 10000
     },
     "inputWidgets": {},
     "nuid": "7a1b66e9-a847-4a8d-a189-28604bbc7c4e",
     "showTitle": false,
     "tableResultSettingsMap": {},
     "title": ""
    }
   },
   "outputs": [],
   "source": [
    "# Using select Function\n",
    "df2 = df.select(col('*'), when(df.department == \"IT\", df.salary*0.1)\n",
    "                .when(df.department == \"HR\", df.salary*0.08)\n",
    "                .otherwise(df.salary*0.05).alias(\"bonus\"))\n",
    "display(df2)"
   ]
  },
  {
   "cell_type": "code",
   "execution_count": 0,
   "metadata": {
    "application/vnd.databricks.v1+cell": {
     "cellMetadata": {
      "byteLimit": 2048000,
      "rowLimit": 10000
     },
     "inputWidgets": {},
     "nuid": "43ef722a-b8e9-4ae6-8081-d8aac3d50926",
     "showTitle": false,
     "tableResultSettingsMap": {},
     "title": ""
    }
   },
   "outputs": [],
   "source": [
    "# Using SQL CASE WHEN using withColumn\n",
    "df3 = df.withColumn('bonus', expr(\"\"\"CASE WHEN department = 'IT' THEN salary*0.1 \n",
    "                                          WHEN department = 'HR' THEN salary*0.08 \n",
    "                                          ELSE salary*0.05 END\"\"\"))\n",
    "display(df3)"
   ]
  },
  {
   "cell_type": "code",
   "execution_count": 0,
   "metadata": {
    "application/vnd.databricks.v1+cell": {
     "cellMetadata": {
      "byteLimit": 2048000,
      "rowLimit": 10000
     },
     "inputWidgets": {},
     "nuid": "074c02dd-84ba-4918-a387-6ae00ba9cbd8",
     "showTitle": false,
     "tableResultSettingsMap": {},
     "title": ""
    }
   },
   "outputs": [],
   "source": [
    "## Using SQL CASE WHEN using select\n",
    "df4 = df.select(col(\"*\"), expr(\"\"\"CASE WHEN department = 'HR' THEN salary*0.08\n",
    "                                       WHEN department = 'IT' THEN salary*0.1\n",
    "                                       ELSE salary*0.05 END\"\"\").alias(\"bonus\"))\n",
    "display(df4)"
   ]
  },
  {
   "cell_type": "code",
   "execution_count": 0,
   "metadata": {
    "application/vnd.databricks.v1+cell": {
     "cellMetadata": {
      "byteLimit": 2048000,
      "rowLimit": 10000
     },
     "inputWidgets": {},
     "nuid": "8cc7677f-5512-4bc6-84a3-aa73aec86717",
     "showTitle": false,
     "tableResultSettingsMap": {},
     "title": ""
    }
   },
   "outputs": [],
   "source": [
    "## Create the TEMP View and use SQL command\n",
    "df.createOrReplaceTempView(\"vWemployee\")"
   ]
  },
  {
   "cell_type": "code",
   "execution_count": 0,
   "metadata": {
    "application/vnd.databricks.v1+cell": {
     "cellMetadata": {
      "byteLimit": 2048000,
      "implicitDf": true,
      "rowLimit": 10000
     },
     "inputWidgets": {},
     "nuid": "0eb9ee7f-cbcf-4016-a7ad-66accd3b40d2",
     "showTitle": false,
     "tableResultSettingsMap": {},
     "title": ""
    }
   },
   "outputs": [],
   "source": [
    "# %sql\n",
    "# select *, case when a.department = \"IT\" then salary*0.1\n",
    "# when a.department = \"HR\" then salary*0.08\n",
    "# else salary*0.05 end as bonus\n",
    "# from vWemployee a\n",
    "\n",
    "\n",
    "df5 = spark.sql(\"\"\"select *, case when a.department = 'IT' then salary*0.1\n",
    "when a.department = 'HR' then salary*0.08\n",
    "else salary*0.05 end as bonus\n",
    "from vWemployee a\"\"\")\n",
    "\n",
    "df5.show()"
   ]
  },
  {
   "cell_type": "code",
   "execution_count": 0,
   "metadata": {
    "application/vnd.databricks.v1+cell": {
     "cellMetadata": {},
     "inputWidgets": {},
     "nuid": "8bd989dd-9928-4385-a460-93151249d8da",
     "showTitle": false,
     "tableResultSettingsMap": {},
     "title": ""
    }
   },
   "outputs": [],
   "source": []
  }
 ],
 "metadata": {
  "application/vnd.databricks.v1+notebook": {
   "computePreferences": null,
   "dashboards": [],
   "environmentMetadata": {
    "base_environment": "",
    "environment_version": "2"
   },
   "inputWidgetPreferences": null,
   "language": "python",
   "notebookMetadata": {
    "mostRecentlyExecutedCommandWithImplicitDF": {
     "commandId": -1,
     "dataframes": [
      "_sqldf"
     ]
    },
    "pythonIndentUnit": 4
   },
   "notebookName": "Databricks Tutorials | Pyspark: Case Function",
   "widgets": {}
  },
  "language_info": {
   "name": "python"
  }
 },
 "nbformat": 4,
 "nbformat_minor": 0
}
