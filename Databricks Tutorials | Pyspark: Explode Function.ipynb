{
 "cells": [
  {
   "cell_type": "markdown",
   "metadata": {
    "application/vnd.databricks.v1+cell": {
     "cellMetadata": {},
     "inputWidgets": {},
     "nuid": "c1193251-af88-41f2-9cd9-56301cfa1c21",
     "showTitle": false,
     "tableResultSettingsMap": {},
     "title": ""
    }
   },
   "source": [
    "## 11. Databricks | Pyspark: Explode Function"
   ]
  },
  {
   "cell_type": "code",
   "execution_count": 0,
   "metadata": {
    "application/vnd.databricks.v1+cell": {
     "cellMetadata": {
      "byteLimit": 2048000,
      "rowLimit": 10000
     },
     "inputWidgets": {},
     "nuid": "7e3eaf32-730b-46c3-87ff-fbc896aec5f7",
     "showTitle": false,
     "tableResultSettingsMap": {},
     "title": ""
    }
   },
   "outputs": [],
   "source": [
    "from pyspark.sql.types import StructType, StringType, IntegerType, StructField, ArrayType, MapType\n",
    "from pyspark.sql.functions import explode, explode_outer, posexplode, posexplode_outer"
   ]
  },
  {
   "cell_type": "code",
   "execution_count": 0,
   "metadata": {
    "application/vnd.databricks.v1+cell": {
     "cellMetadata": {
      "byteLimit": 2048000,
      "rowLimit": 10000
     },
     "inputWidgets": {},
     "nuid": "cefaec84-23c9-4eab-ba5c-6636e7c6d015",
     "showTitle": false,
     "tableResultSettingsMap": {},
     "title": ""
    }
   },
   "outputs": [],
   "source": [
    "# Sample data with array column\n",
    "data = [\n",
    "    (\"Alice\", [85, 90, 95]),\n",
    "    (\"Bob\", [70, 75]),\n",
    "    (\"Charlie\", [100, 100, None]),\n",
    "     (\"Peter\", None)\n",
    "]\n",
    "\n",
    "# Define Schema\n",
    "schema = StructType([\n",
    "    StructField(\"name\", StringType()),\n",
    "    StructField(\"scores\", ArrayType(IntegerType()))])\n",
    "  \n",
    "# Create DataFrame\n",
    "df_array = spark.createDataFrame(data, schema)\n",
    "df_array.printSchema()\n",
    "display(df_array)\n"
   ]
  },
  {
   "cell_type": "code",
   "execution_count": 0,
   "metadata": {
    "application/vnd.databricks.v1+cell": {
     "cellMetadata": {
      "byteLimit": 2048000,
      "rowLimit": 10000
     },
     "inputWidgets": {},
     "nuid": "097e167b-a62c-4ad1-91bc-b432df55af4f",
     "showTitle": false,
     "tableResultSettingsMap": {},
     "title": ""
    }
   },
   "outputs": [],
   "source": [
    "# Sample data with Map column\n",
    "data = [\n",
    "    (\"Alice\", {\"math\": 85, \"science\": 90}),\n",
    "    (\"Bob\", {\"math\": 78}),\n",
    "    (\"Charlie\", {\"science\": 95, \"english\": 88}),\n",
    "    (\"Peter\", None)\n",
    "]\n",
    "\n",
    "# Define schema\n",
    "schema = StructType([\n",
    "    StructField(\"name\", StringType(), True),\n",
    "    StructField(\"scores\", MapType(StringType(), IntegerType()), True)\n",
    "])\n",
    "\n",
    "# Create DataFrame\n",
    "df_map = spark.createDataFrame(data, schema=schema)\n",
    "df_map.printSchema()\n",
    "df_map.show(truncate=False)\n"
   ]
  },
  {
   "cell_type": "code",
   "execution_count": 0,
   "metadata": {
    "application/vnd.databricks.v1+cell": {
     "cellMetadata": {
      "byteLimit": 2048000,
      "rowLimit": 10000
     },
     "inputWidgets": {},
     "nuid": "84e0b852-cab8-457a-af28-1d28284bc2ab",
     "showTitle": false,
     "tableResultSettingsMap": {},
     "title": ""
    }
   },
   "outputs": [],
   "source": [
    "# Explode the array column\n",
    "exploded_df_array = df_array.select(df_array.name, explode(df_array.scores).alias(\"Scores\"))\n",
    "display(exploded_df_array)"
   ]
  },
  {
   "cell_type": "code",
   "execution_count": 0,
   "metadata": {
    "application/vnd.databricks.v1+cell": {
     "cellMetadata": {
      "byteLimit": 2048000,
      "rowLimit": 10000
     },
     "inputWidgets": {},
     "nuid": "db77f08c-db6b-4ca5-b107-4a771db0d461",
     "showTitle": false,
     "tableResultSettingsMap": {},
     "title": ""
    }
   },
   "outputs": [],
   "source": [
    "# Explode the map column\n",
    "exploded_df_map = df_map.select(df_map.name, explode(df_map.scores).alias(\"Subject\",\"Scores\"))\n",
    "display(exploded_df_map)"
   ]
  },
  {
   "cell_type": "code",
   "execution_count": 0,
   "metadata": {
    "application/vnd.databricks.v1+cell": {
     "cellMetadata": {
      "byteLimit": 2048000,
      "rowLimit": 10000
     },
     "inputWidgets": {},
     "nuid": "e2399f20-7c9c-40f2-be17-e0cc985faa0c",
     "showTitle": false,
     "tableResultSettingsMap": {},
     "title": ""
    }
   },
   "outputs": [],
   "source": [
    "# Explode the array column with nulls\n",
    "exploded_df_array_outer = df_array.select(df_array.name, explode_outer(df_array.scores).alias(\"Scores\"))\n",
    "\n",
    "display(exploded_df_array_outer)"
   ]
  },
  {
   "cell_type": "code",
   "execution_count": 0,
   "metadata": {
    "application/vnd.databricks.v1+cell": {
     "cellMetadata": {
      "byteLimit": 2048000,
      "rowLimit": 10000
     },
     "inputWidgets": {},
     "nuid": "cd136ba4-1c6e-4299-a58d-ec1fe636aae3",
     "showTitle": false,
     "tableResultSettingsMap": {},
     "title": ""
    }
   },
   "outputs": [],
   "source": [
    "# Explode with map column with nulls\n",
    "exploded_df_map_outer = df_map.select(df_map.name, explode_outer(df_map.scores).alias(\"Subject\", \"Scores\"))\n",
    "\n",
    "display(exploded_df_map_outer)"
   ]
  },
  {
   "cell_type": "code",
   "execution_count": 0,
   "metadata": {
    "application/vnd.databricks.v1+cell": {
     "cellMetadata": {
      "byteLimit": 2048000,
      "rowLimit": 10000
     },
     "inputWidgets": {},
     "nuid": "69fbc8e5-23a2-4740-a8fb-40fc97151f10",
     "showTitle": false,
     "tableResultSettingsMap": {},
     "title": ""
    }
   },
   "outputs": [],
   "source": [
    "# Explode with array column with position\n",
    "exploded_df_array_pos = df_array.select(df_array.name, posexplode(df_array.scores).alias(\"Positions\", \"Scores\"))\n",
    "display(exploded_df_array_pos)"
   ]
  },
  {
   "cell_type": "code",
   "execution_count": 0,
   "metadata": {
    "application/vnd.databricks.v1+cell": {
     "cellMetadata": {
      "byteLimit": 2048000,
      "rowLimit": 10000
     },
     "inputWidgets": {},
     "nuid": "f534f8d0-3e26-4c16-88f8-4eb1b577e8ca",
     "showTitle": false,
     "tableResultSettingsMap": {},
     "title": ""
    }
   },
   "outputs": [],
   "source": [
    "# Explode with map column with position\n",
    "exploded_df_map_pos = df_map.select(df_map.name, posexplode(df_map.scores).alias(\"Positions\",\"Subject\",\"Scores\"))\n",
    "display(exploded_df_map_pos)"
   ]
  },
  {
   "cell_type": "code",
   "execution_count": 0,
   "metadata": {
    "application/vnd.databricks.v1+cell": {
     "cellMetadata": {
      "byteLimit": 2048000,
      "rowLimit": 10000
     },
     "inputWidgets": {},
     "nuid": "b7747bce-4901-4ebe-adee-4724b09e5eaa",
     "showTitle": false,
     "tableResultSettingsMap": {},
     "title": ""
    }
   },
   "outputs": [],
   "source": [
    "# Explode with array column with position and nulls\n",
    "exploded_df_array_pos_outer = df_array.select(df_array.name, posexplode_outer(df_array.scores).alias(\"Positions\", \"Scores\"))\n",
    "display(exploded_df_array_pos_outer)"
   ]
  },
  {
   "cell_type": "code",
   "execution_count": 0,
   "metadata": {
    "application/vnd.databricks.v1+cell": {
     "cellMetadata": {
      "byteLimit": 2048000,
      "rowLimit": 10000
     },
     "inputWidgets": {},
     "nuid": "e8524973-f57b-413e-b7cf-4f34b38ae466",
     "showTitle": false,
     "tableResultSettingsMap": {},
     "title": ""
    }
   },
   "outputs": [],
   "source": [
    "# Explode with map column with position and nulls\n",
    "exploded_df_map_pos_outer = df_map.select(df_map.name, posexplode_outer(df_map.scores).alias(\"Positions\", \"Subject\",\"Scores\"))\n",
    "display(exploded_df_map_pos_outer)"
   ]
  },
  {
   "cell_type": "code",
   "execution_count": 0,
   "metadata": {
    "application/vnd.databricks.v1+cell": {
     "cellMetadata": {},
     "inputWidgets": {},
     "nuid": "123d51f9-b4e3-405f-8938-0465697523fe",
     "showTitle": false,
     "tableResultSettingsMap": {},
     "title": ""
    }
   },
   "outputs": [],
   "source": []
  }
 ],
 "metadata": {
  "application/vnd.databricks.v1+notebook": {
   "computePreferences": null,
   "dashboards": [],
   "environmentMetadata": {
    "base_environment": "",
    "environment_version": "2"
   },
   "inputWidgetPreferences": null,
   "language": "python",
   "notebookMetadata": {
    "mostRecentlyExecutedCommandWithImplicitDF": {
     "commandId": -1,
     "dataframes": [
      "_sqldf"
     ]
    },
    "pythonIndentUnit": 4
   },
   "notebookName": "Databricks Tutorials | Pyspark: Explode Function",
   "widgets": {}
  },
  "language_info": {
   "name": "python"
  }
 },
 "nbformat": 4,
 "nbformat_minor": 0
}
